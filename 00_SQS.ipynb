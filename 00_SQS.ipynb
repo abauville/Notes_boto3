{
 "cells": [
  {
   "cell_type": "markdown",
   "id": "b675697c-9162-49d4-b70e-23c36c6d48d9",
   "metadata": {},
   "source": [
    "# SQS playground\n",
    "\n",
    "Following the boto3 doc [tutorial](https://boto3.amazonaws.com/v1/documentation/api/latest/guide/sqs.html)."
   ]
  },
  {
   "cell_type": "code",
   "execution_count": 19,
   "id": "84b86ea7-b371-4dbc-88c1-b757e6bd73c6",
   "metadata": {},
   "outputs": [],
   "source": [
    "import boto3"
   ]
  },
  {
   "cell_type": "code",
   "execution_count": 20,
   "id": "53d5e6e7-653e-4514-bd3e-f0f842f13462",
   "metadata": {},
   "outputs": [],
   "source": [
    "sqs = boto3.resource('sqs')"
   ]
  },
  {
   "cell_type": "markdown",
   "id": "b335e6dd-1077-4b32-ae4f-63a392d0b747",
   "metadata": {},
   "source": [
    "# Create a queue"
   ]
  },
  {
   "cell_type": "code",
   "execution_count": 21,
   "id": "6152c8fb-2e2b-4ff7-a76b-b06f0aed0246",
   "metadata": {},
   "outputs": [],
   "source": [
    "queue = sqs.create_queue(QueueName='Arthur_test', Attributes={'DelaySeconds': '5'})"
   ]
  },
  {
   "cell_type": "code",
   "execution_count": 22,
   "id": "3ffa76d4-2e49-4e0d-9596-5dd8f42db5a3",
   "metadata": {},
   "outputs": [
    {
     "data": {
      "text/plain": [
       "'https://queue.amazonaws.com/287968338537/Arthur_test'"
      ]
     },
     "execution_count": 22,
     "metadata": {},
     "output_type": "execute_result"
    }
   ],
   "source": [
    "queue.url"
   ]
  },
  {
   "cell_type": "code",
   "execution_count": 23,
   "id": "28ef7b32-8aa7-452e-8425-8d8895fffb49",
   "metadata": {},
   "outputs": [
    {
     "data": {
      "text/plain": [
       "'5'"
      ]
     },
     "execution_count": 23,
     "metadata": {},
     "output_type": "execute_result"
    }
   ],
   "source": [
    "queue.attributes.get('DelaySeconds')"
   ]
  },
  {
   "cell_type": "markdown",
   "id": "be37f65f-7f99-4831-8841-a1b8506d5f0e",
   "metadata": {},
   "source": [
    "# Sending messages"
   ]
  },
  {
   "cell_type": "code",
   "execution_count": 33,
   "id": "2899fa88-2aef-4aad-8141-7965bc3f9e1e",
   "metadata": {},
   "outputs": [],
   "source": [
    "queue = sqs.get_queue_by_name(QueueName='Arthur_test')"
   ]
  },
  {
   "cell_type": "code",
   "execution_count": 34,
   "id": "8769441b-3514-4110-9546-d8efd26f1bca",
   "metadata": {},
   "outputs": [
    {
     "data": {
      "text/plain": [
       "'https://queue.amazonaws.com/287968338537/Arthur_test'"
      ]
     },
     "execution_count": 34,
     "metadata": {},
     "output_type": "execute_result"
    }
   ],
   "source": [
    "queue.url"
   ]
  },
  {
   "cell_type": "code",
   "execution_count": 32,
   "id": "b95c575f-731d-44e8-8311-ada4deaf2909",
   "metadata": {},
   "outputs": [],
   "source": [
    "# for queue in sqs.queues.all():\n",
    "#     print(queue.url.split('/')[-1])"
   ]
  },
  {
   "cell_type": "code",
   "execution_count": 35,
   "id": "0e8b84bd-266a-48fb-a81f-4ac0fc89f7ad",
   "metadata": {},
   "outputs": [
    {
     "data": {
      "text/plain": [
       "{'MD5OfMessageBody': '86fb269d190d2c85f6e0468ceca42a20',\n",
       " 'MessageId': '096522d9-4e32-4411-881b-e582e8559054',\n",
       " 'ResponseMetadata': {'RequestId': '3ae6b187-0fcb-5e2a-a79a-eae190896cd5',\n",
       "  'HTTPStatusCode': 200,\n",
       "  'HTTPHeaders': {'x-amzn-requestid': '3ae6b187-0fcb-5e2a-a79a-eae190896cd5',\n",
       "   'date': 'Fri, 05 Aug 2022 04:30:58 GMT',\n",
       "   'content-type': 'text/xml',\n",
       "   'content-length': '378'},\n",
       "  'RetryAttempts': 0}}"
      ]
     },
     "execution_count": 35,
     "metadata": {},
     "output_type": "execute_result"
    }
   ],
   "source": [
    "response = queue.send_message(MessageBody='Hello world!')\n",
    "response"
   ]
  },
  {
   "cell_type": "code",
   "execution_count": 44,
   "id": "8877dac4-3efc-4c49-81ae-77b013a2d50d",
   "metadata": {},
   "outputs": [
    {
     "data": {
      "text/plain": [
       "{'MD5OfMessageBody': '4765da229db7266d8a06e4866262c3b8',\n",
       " 'MD5OfMessageAttributes': '8ef44980e02711488e578cf69e6a1f57',\n",
       " 'MessageId': '90cf3d9e-cc93-496f-804a-0cd3e7418a80',\n",
       " 'ResponseMetadata': {'RequestId': 'f3f95932-ffc7-5b60-963c-02545ee97ccd',\n",
       "  'HTTPStatusCode': 200,\n",
       "  'HTTPHeaders': {'x-amzn-requestid': 'f3f95932-ffc7-5b60-963c-02545ee97ccd',\n",
       "   'date': 'Fri, 05 Aug 2022 04:39:10 GMT',\n",
       "   'content-type': 'text/xml',\n",
       "   'content-length': '459'},\n",
       "  'RetryAttempts': 0}}"
      ]
     },
     "execution_count": 44,
     "metadata": {},
     "output_type": "execute_result"
    }
   ],
   "source": [
    "queue.send_message(MessageBody='3_Hello world!', MessageAttributes={\n",
    "    'Author': {\n",
    "        'StringValue': 'Arthur',\n",
    "        'DataType': 'String'\n",
    "    }\n",
    "})"
   ]
  },
  {
   "cell_type": "code",
   "execution_count": 37,
   "id": "1be5505b-46b7-4ea7-8034-17bd4b29c625",
   "metadata": {},
   "outputs": [
    {
     "data": {
      "text/plain": [
       "'096522d9-4e32-4411-881b-e582e8559054'"
      ]
     },
     "execution_count": 37,
     "metadata": {},
     "output_type": "execute_result"
    }
   ],
   "source": [
    "response.get('MessageId')"
   ]
  },
  {
   "cell_type": "code",
   "execution_count": 39,
   "id": "d4b1d9cc-cd4c-4fa5-8bf0-519cba78dbd0",
   "metadata": {},
   "outputs": [
    {
     "data": {
      "text/plain": [
       "{'QueueArn': 'arn:aws:sqs:us-east-1:287968338537:Arthur_test',\n",
       " 'ApproximateNumberOfMessages': '1',\n",
       " 'ApproximateNumberOfMessagesNotVisible': '0',\n",
       " 'ApproximateNumberOfMessagesDelayed': '0',\n",
       " 'CreatedTimestamp': '1659673276',\n",
       " 'LastModifiedTimestamp': '1659673276',\n",
       " 'VisibilityTimeout': '30',\n",
       " 'MaximumMessageSize': '262144',\n",
       " 'MessageRetentionPeriod': '345600',\n",
       " 'DelaySeconds': '5',\n",
       " 'ReceiveMessageWaitTimeSeconds': '0',\n",
       " 'SqsManagedSseEnabled': 'false'}"
      ]
     },
     "execution_count": 39,
     "metadata": {},
     "output_type": "execute_result"
    }
   ],
   "source": [
    "queue.attributes"
   ]
  },
  {
   "cell_type": "code",
   "execution_count": 89,
   "id": "96651cc8-081f-4791-ac97-9da70b5ae7a1",
   "metadata": {},
   "outputs": [
    {
     "name": "stdout",
     "output_type": "stream",
     "text": [
      "None\n"
     ]
    }
   ],
   "source": [
    "response = queue.send_messages(Entries=[\n",
    "    {\n",
    "        'Id': '1',\n",
    "        'MessageBody': 'world'\n",
    "    },\n",
    "    {\n",
    "        'Id': '2',\n",
    "        'MessageBody': 'boto3',\n",
    "        'MessageAttributes': {\n",
    "            'Author': {\n",
    "                'StringValue': 'Daniel',\n",
    "                'DataType': 'String'\n",
    "            }\n",
    "        }\n",
    "    }\n",
    "])\n",
    "\n",
    "# Print out any failures\n",
    "print(response.get('Failed'))"
   ]
  },
  {
   "cell_type": "markdown",
   "id": "82ed8f36-6b66-4d0f-9f1e-883ea59f2776",
   "metadata": {},
   "source": [
    "## Processing messages\n",
    "\n",
    "Messages are processed in batches"
   ]
  },
  {
   "cell_type": "code",
   "execution_count": 74,
   "id": "a633fbc6-236a-4ed9-998f-878343a02029",
   "metadata": {},
   "outputs": [],
   "source": [
    "queue = sqs.get_queue_by_name(QueueName='Arthur_test')"
   ]
  },
  {
   "cell_type": "code",
   "execution_count": 113,
   "id": "ee7f9448-cba0-4566-836a-01ee0d60daac",
   "metadata": {},
   "outputs": [],
   "source": [
    "for message in queue.receive_messages(MessageAttributeNames=['Author']):\n",
    "    author_text = ''\n",
    "    if message.message_attributes is not None:\n",
    "        author_name = message.message_attributes.get('Author').get('StringValue')\n",
    "        if author_name:\n",
    "            author_text = f'- {author_name} -'\n",
    "    print(f\"{message.body} {author_text}\")\n",
    "    message.delete()"
   ]
  },
  {
   "cell_type": "code",
   "execution_count": 72,
   "id": "ac0bf8d1-5f39-4dd4-992f-cdf3fd3711b3",
   "metadata": {},
   "outputs": [
    {
     "data": {
      "text/plain": [
       "'https://queue.amazonaws.com/287968338537/Arthur_test'"
      ]
     },
     "execution_count": 72,
     "metadata": {},
     "output_type": "execute_result"
    }
   ],
   "source": [
    "queue.url"
   ]
  },
  {
   "cell_type": "code",
   "execution_count": 85,
   "id": "ae692285-71f0-4926-bec9-cc5c2fd2cd29",
   "metadata": {},
   "outputs": [
    {
     "data": {
      "text/plain": [
       "[]"
      ]
     },
     "execution_count": 85,
     "metadata": {},
     "output_type": "execute_result"
    }
   ],
   "source": [
    "queue.receive_messages()"
   ]
  },
  {
   "cell_type": "markdown",
   "id": "bd45447c-d498-4a52-8d59-9777387747d3",
   "metadata": {},
   "source": [
    "## Delete the queue"
   ]
  },
  {
   "cell_type": "code",
   "execution_count": 116,
   "id": "73cde012-4414-46fa-b1a1-bced13eb13bb",
   "metadata": {},
   "outputs": [
    {
     "data": {
      "text/plain": [
       "{'ResponseMetadata': {'RequestId': '650244d9-39e7-5c59-9c39-1fbf90c0b9c4',\n",
       "  'HTTPStatusCode': 200,\n",
       "  'HTTPHeaders': {'x-amzn-requestid': '650244d9-39e7-5c59-9c39-1fbf90c0b9c4',\n",
       "   'date': 'Fri, 05 Aug 2022 05:13:11 GMT',\n",
       "   'content-type': 'text/xml',\n",
       "   'content-length': '211'},\n",
       "  'RetryAttempts': 0}}"
      ]
     },
     "execution_count": 116,
     "metadata": {},
     "output_type": "execute_result"
    }
   ],
   "source": [
    "queue.delete()"
   ]
  },
  {
   "cell_type": "code",
   "execution_count": null,
   "id": "1fd8a147-55af-4fc9-8855-fb2badf5715b",
   "metadata": {},
   "outputs": [],
   "source": []
  }
 ],
 "metadata": {
  "kernelspec": {
   "display_name": "Python 3 (ipykernel)",
   "language": "python",
   "name": "python3"
  },
  "language_info": {
   "codemirror_mode": {
    "name": "ipython",
    "version": 3
   },
   "file_extension": ".py",
   "mimetype": "text/x-python",
   "name": "python",
   "nbconvert_exporter": "python",
   "pygments_lexer": "ipython3",
   "version": "3.9.12"
  }
 },
 "nbformat": 4,
 "nbformat_minor": 5
}
